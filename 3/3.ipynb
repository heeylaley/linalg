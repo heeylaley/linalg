{
 "cells": [
  {
   "cell_type": "markdown",
   "id": "639682fe",
   "metadata": {},
   "source": [
    "### Задание 1"
   ]
  },
  {
   "cell_type": "code",
   "execution_count": 2,
   "id": "d3cdb82b",
   "metadata": {
    "scrolled": false
   },
   "outputs": [
    {
     "name": "stdout",
     "output_type": "stream",
     "text": [
      "λ1 = 2.0\n",
      "λ2 = 3.0\n",
      "Собственные векторы:\n",
      "[[-0.89442719  0.83205029]\n",
      " [ 0.4472136  -0.5547002 ]]\n"
     ]
    }
   ],
   "source": [
    "import numpy as np\n",
    "A = np.array([[-1, -6],\n",
    "              [2, 6]])\n",
    "w, v = np.linalg.eig(A)\n",
    "\n",
    "n = 1\n",
    "for el in w:\n",
    "    print(f'λ{n} = {el}')\n",
    "    n += 1\n",
    "    \n",
    "print(f'Собственные векторы:\\n{v}')"
   ]
  },
  {
   "cell_type": "markdown",
   "id": "ee5e5ba4",
   "metadata": {},
   "source": [
    "### Задание 2"
   ]
  },
  {
   "cell_type": "code",
   "execution_count": 3,
   "id": "6661b223",
   "metadata": {
    "scrolled": true
   },
   "outputs": [
    {
     "name": "stdout",
     "output_type": "stream",
     "text": [
      "λ1 = -1.0\n",
      "λ2 = -1.0\n"
     ]
    }
   ],
   "source": [
    "A = np.array([[-1, 0],\n",
    "              [0, -1]])\n",
    "w, v = np.linalg.eig(A)\n",
    "n = 1\n",
    "for el in w:\n",
    "    print(f'λ{n} = {el}')\n",
    "    n += 1"
   ]
  },
  {
   "cell_type": "markdown",
   "id": "84203728",
   "metadata": {},
   "source": [
    "$$Получаем, что\\ λ_1 = λ_2 = -1$$\n",
    "$$Поворот\\ на\\ 180\\ градусов\\ меняет\\ знак\\ у\\ координат\\ на\\ противоположный\\ (e_1, e_2)\\ -> (-e_1, -e_2)$$\n",
    "$$=> λ\\ должна\\ быть\\ равна\\ -1 => любой\\ вектор\\ является\\ для\\ данного\\ оператора\\ поворота\\ будет\\ собственным$$"
   ]
  },
  {
   "cell_type": "markdown",
   "id": "2206b687",
   "metadata": {},
   "source": [
    "### Задание 3"
   ]
  },
  {
   "cell_type": "code",
   "execution_count": 4,
   "id": "b717850f",
   "metadata": {
    "scrolled": false
   },
   "outputs": [
    {
     "data": {
      "text/plain": [
       "array([2, 2])"
      ]
     },
     "execution_count": 4,
     "metadata": {},
     "output_type": "execute_result"
    }
   ],
   "source": [
    "A = np.array([[1, 1],\n",
    "              [-1, 3]])\n",
    "B = np.array([1, 1])\n",
    "np.dot(A, B)"
   ]
  },
  {
   "cell_type": "markdown",
   "id": "666e441d",
   "metadata": {},
   "source": [
    "$$2 * (1, 1) = (2, 2)$$\n",
    "$$=> Вектор\\ x = (1, 1)\\ является\\ собственным\\ вектором\\ линейного\\ оператора, заданного\\ матрицей\\ A$$"
   ]
  },
  {
   "cell_type": "markdown",
   "id": "f1e60d77",
   "metadata": {},
   "source": [
    "### Задание 4"
   ]
  },
  {
   "cell_type": "code",
   "execution_count": 5,
   "id": "0af1cfdc",
   "metadata": {
    "scrolled": false
   },
   "outputs": [
    {
     "data": {
      "text/plain": [
       "array([ -9,   9, -12])"
      ]
     },
     "execution_count": 5,
     "metadata": {},
     "output_type": "execute_result"
    }
   ],
   "source": [
    "A = np.array([[0, 3, 0],\n",
    "              [3, 0, 0],\n",
    "              [0, 0, 3]])\n",
    "B = np.array([3, -3, -4])\n",
    "np.dot(A, B)"
   ]
  },
  {
   "cell_type": "markdown",
   "id": "6eb2959d",
   "metadata": {},
   "source": [
    "$$Получаем\\ (-3, -3, 3), что\\ не\\ является\\ λ$$ \n",
    "$$=> Вектор\\ x = (3, -3, -4)\\ не\\ является\\ собственным\\ вектором\\ линейного\\ оператора, заданного\\ матрицей\\ A$$"
   ]
  }
 ],
 "metadata": {
  "kernelspec": {
   "display_name": "Python 3",
   "language": "python",
   "name": "python3"
  },
  "language_info": {
   "codemirror_mode": {
    "name": "ipython",
    "version": 3
   },
   "file_extension": ".py",
   "mimetype": "text/x-python",
   "name": "python",
   "nbconvert_exporter": "python",
   "pygments_lexer": "ipython3",
   "version": "3.8.8"
  }
 },
 "nbformat": 4,
 "nbformat_minor": 5
}
