{
 "cells": [
  {
   "cell_type": "markdown",
   "id": "2880b530",
   "metadata": {},
   "source": [
    "### Задание 1"
   ]
  },
  {
   "cell_type": "markdown",
   "id": "377fe2f9",
   "metadata": {},
   "source": [
    "а) Не перемножаются (2 и 4) <br>\n",
    "б) 2 х 3 <br>\n",
    "в) 8 х 8 <br>\n",
    "г) 4 х 4"
   ]
  },
  {
   "cell_type": "markdown",
   "id": "8ae82ec9",
   "metadata": {},
   "source": [
    "### Задание 2"
   ]
  },
  {
   "cell_type": "code",
   "execution_count": 9,
   "id": "956ff021",
   "metadata": {},
   "outputs": [
    {
     "name": "stdout",
     "output_type": "stream",
     "text": [
      "[[ 5 -3]\n",
      " [ 3  5]]\n"
     ]
    }
   ],
   "source": [
    "import numpy as np\n",
    "\n",
    "A = np.array([[1, -2],\n",
    "              [3, 0],\n",
    "             ])\n",
    "B = np.array([[4, -1],\n",
    "              [0, 5],\n",
    "             ])\n",
    "print(A + B)"
   ]
  },
  {
   "cell_type": "code",
   "execution_count": 11,
   "id": "6cb219d8",
   "metadata": {},
   "outputs": [
    {
     "name": "stdout",
     "output_type": "stream",
     "text": [
      "[[  4 -11]\n",
      " [ 12  -3]]\n"
     ]
    }
   ],
   "source": [
    "print(np.dot(A, B))"
   ]
  },
  {
   "cell_type": "code",
   "execution_count": 14,
   "id": "18c93ac4",
   "metadata": {
    "scrolled": false
   },
   "outputs": [
    {
     "name": "stdout",
     "output_type": "stream",
     "text": [
      "[[ 1 -8]\n",
      " [15  0]]\n"
     ]
    }
   ],
   "source": [
    "print(np.dot(B, A))"
   ]
  },
  {
   "cell_type": "markdown",
   "id": "2fe61300",
   "metadata": {},
   "source": [
    "### Задание 3"
   ]
  },
  {
   "cell_type": "code",
   "execution_count": 5,
   "id": "773d1565",
   "metadata": {},
   "outputs": [
    {
     "data": {
      "text/plain": [
       "array([[ 11,  -5],\n",
       "       [  9, -12]])"
      ]
     },
     "execution_count": 5,
     "metadata": {},
     "output_type": "execute_result"
    }
   ],
   "source": [
    "A = np.array([[1, 7],\n",
    "              [3, -6],\n",
    "             ])\n",
    "B = np.array([[0, 5],\n",
    "              [2, -1],\n",
    "             ])\n",
    "C = np.array([[2, -4],\n",
    "              [1, 1],\n",
    "             ])\n",
    "print(3 * A - 2 * B + 4 * C)"
   ]
  },
  {
   "cell_type": "markdown",
   "id": "799befea",
   "metadata": {},
   "source": [
    "### Задание 4"
   ]
  },
  {
   "cell_type": "code",
   "execution_count": 18,
   "id": "7dde03a2",
   "metadata": {},
   "outputs": [
    {
     "name": "stdout",
     "output_type": "stream",
     "text": [
      "Транспонированная матрица:\n",
      " [[ 4  5  2]\n",
      " [ 1 -2  3]]\n",
      "A * AT:\n",
      " [[17 18 11]\n",
      " [18 29  4]\n",
      " [11  4 13]]\n",
      "AT * A:\n",
      " [[45  0]\n",
      " [ 0 14]]\n"
     ]
    }
   ],
   "source": [
    "A = np.matrix([[4, 1],\n",
    "              [5, -2],\n",
    "              [2, 3]\n",
    "             ])\n",
    "A_T = A.T\n",
    "\n",
    "print(f'Транспонированная матрица:\\n {A.T}')\n",
    "print(f'A * AT:\\n {A * A_T}')\n",
    "print(f'AT * A:\\n {A_T * A}')"
   ]
  }
 ],
 "metadata": {
  "kernelspec": {
   "display_name": "Python 3",
   "language": "python",
   "name": "python3"
  },
  "language_info": {
   "codemirror_mode": {
    "name": "ipython",
    "version": 3
   },
   "file_extension": ".py",
   "mimetype": "text/x-python",
   "name": "python",
   "nbconvert_exporter": "python",
   "pygments_lexer": "ipython3",
   "version": "3.8.8"
  }
 },
 "nbformat": 4,
 "nbformat_minor": 5
}
