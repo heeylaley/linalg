{
 "cells": [
  {
   "cell_type": "markdown",
   "id": "20635df2",
   "metadata": {},
   "source": [
    "### Задание 1"
   ]
  },
  {
   "cell_type": "markdown",
   "id": "88f4ceee",
   "metadata": {},
   "source": [
    "***а)***\n",
    "$$sin(x) * sin(x) − cos(x) * (−cos(x)) = sin^2(x) + cos^2(x) = 1$$"
   ]
  },
  {
   "cell_type": "markdown",
   "id": "93f0064a",
   "metadata": {},
   "source": [
    "***б)***\n",
    "$$4 * 5 * 9 = 180$$"
   ]
  },
  {
   "cell_type": "markdown",
   "id": "3555020c",
   "metadata": {},
   "source": [
    "***в)***\n",
    "$$7 * (12 − 15) − 8 * (6 − 12) + 9 * (5 − 8) = −21 + 48 − 27 = 0$$"
   ]
  },
  {
   "cell_type": "markdown",
   "id": "0aaed747",
   "metadata": {},
   "source": [
    "### Задание 2"
   ]
  },
  {
   "cell_type": "markdown",
   "id": "9e1da52e",
   "metadata": {},
   "source": [
    "***а)***\n",
    "$$det(A^2) = 4^2 = 16$$\n",
    "\n",
    "***б)***\n",
    "$$detA^T = detA = 4$$\n",
    "\n",
    "***в)***\n",
    "$$матрица\\ n\\ х\\ n$$\n",
    "$$det(2A)=2^ndetA = 4 * 2^n$$"
   ]
  },
  {
   "cell_type": "markdown",
   "id": "352356e8",
   "metadata": {},
   "source": [
    "### Задание 3"
   ]
  },
  {
   "cell_type": "code",
   "execution_count": 11,
   "id": "12d4f112",
   "metadata": {},
   "outputs": [
    {
     "data": {
      "text/plain": [
       "0.0"
      ]
     },
     "execution_count": 11,
     "metadata": {},
     "output_type": "execute_result"
    }
   ],
   "source": [
    "import numpy as np\n",
    "\n",
    "M = np.array([[-2, 7, -3],\n",
    "              [4, -14, 6],\n",
    "              [-3, 7, 13]\n",
    "             ])\n",
    "np.linalg.det(M)"
   ]
  },
  {
   "cell_type": "markdown",
   "id": "c3e00c51",
   "metadata": {},
   "source": [
    "Так как определитель = 0, то матрица вырожденная"
   ]
  },
  {
   "cell_type": "markdown",
   "id": "645d1e13",
   "metadata": {},
   "source": [
    "### Задание 4"
   ]
  },
  {
   "cell_type": "code",
   "execution_count": 3,
   "id": "114b1ff3",
   "metadata": {
    "scrolled": true
   },
   "outputs": [
    {
     "data": {
      "text/plain": [
       "2"
      ]
     },
     "execution_count": 3,
     "metadata": {},
     "output_type": "execute_result"
    }
   ],
   "source": [
    "# а)\n",
    "M = np.array([[1, 2, 3],\n",
    "              [1, 1, 1],\n",
    "              [2, 3, 4]\n",
    "               ])\n",
    "\n",
    "np.linalg.matrix_rank(M, tol=None)"
   ]
  },
  {
   "cell_type": "code",
   "execution_count": 4,
   "id": "d10d415d",
   "metadata": {},
   "outputs": [
    {
     "data": {
      "text/plain": [
       "3"
      ]
     },
     "execution_count": 4,
     "metadata": {},
     "output_type": "execute_result"
    }
   ],
   "source": [
    "# б)\n",
    "M = np.array([[0, 0, 2, 1],\n",
    "              [0, 0, 2, 2],\n",
    "              [0, 0, 4, 3],\n",
    "              [2, 3, 5, 6]\n",
    "               ])\n",
    "\n",
    "np.linalg.matrix_rank(M, tol=None)"
   ]
  }
 ],
 "metadata": {
  "kernelspec": {
   "display_name": "Python 3",
   "language": "python",
   "name": "python3"
  },
  "language_info": {
   "codemirror_mode": {
    "name": "ipython",
    "version": 3
   },
   "file_extension": ".py",
   "mimetype": "text/x-python",
   "name": "python",
   "nbconvert_exporter": "python",
   "pygments_lexer": "ipython3",
   "version": "3.8.8"
  }
 },
 "nbformat": 4,
 "nbformat_minor": 5
}
