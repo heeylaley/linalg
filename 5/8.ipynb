{
 "cells": [
  {
   "cell_type": "markdown",
   "id": "0c897061",
   "metadata": {},
   "source": [
    "### Задание 1"
   ]
  },
  {
   "cell_type": "code",
   "execution_count": 1,
   "id": "caae0c01",
   "metadata": {
    "scrolled": false
   },
   "outputs": [
    {
     "name": "stdout",
     "output_type": "stream",
     "text": [
      "Матрица D:\n",
      "[[8.82 0.   0.  ]\n",
      " [0.   6.14 0.  ]\n",
      " [0.   0.   2.53]\n",
      " [0.   0.   0.  ]\n",
      " [0.   0.   0.  ]]\n",
      "Матрица U:\n",
      "[[ 0.17  0.16 -0.53 -0.8  -0.16]\n",
      " [ 0.39 -0.53  0.61 -0.43  0.03]\n",
      " [-0.14 -0.82 -0.52  0.14  0.07]\n",
      " [ 0.89  0.06 -0.25  0.38 -0.06]\n",
      " [ 0.08  0.11 -0.08 -0.11  0.98]]\n",
      "Матрица V:\n",
      "[[ 0.07 -0.37 -0.93]\n",
      " [ 0.72  0.67 -0.21]\n",
      " [ 0.69 -0.65  0.31]]\n"
     ]
    }
   ],
   "source": [
    "import numpy as np\n",
    "\n",
    "A = np.matrix([[1, 2, 0],\n",
    "               [0, 0, 5],\n",
    "               [3, -4, 2],\n",
    "               [1, 6, 5],\n",
    "               [0, 1, 0]\n",
    "              ])\n",
    "\n",
    "U, s, W = np.linalg.svd(A)\n",
    "V = W.T\n",
    "\n",
    "D = np.zeros_like(A, dtype=float)\n",
    "D[np.diag_indices(min(A.shape))] = s\n",
    "\n",
    "print(f'Матрица D:\\n{np.round(D, 2)}')\n",
    "print(f'Матрица U:\\n{np.round(U, 2)}')\n",
    "print(f'Матрица V:\\n{np.round(V, 2)}')"
   ]
  },
  {
   "cell_type": "code",
   "execution_count": 9,
   "id": "a032c641",
   "metadata": {
    "scrolled": false
   },
   "outputs": [
    {
     "name": "stdout",
     "output_type": "stream",
     "text": [
      "[[ 1.  2.  0.]\n",
      " [ 0. -0.  5.]\n",
      " [ 3. -4.  2.]\n",
      " [ 1.  6.  5.]\n",
      " [-0.  1.  0.]]\n"
     ]
    }
   ],
   "source": [
    "# Проверка:\n",
    "print(np.around(np.dot(np.dot(U, D), V.T)))"
   ]
  },
  {
   "cell_type": "markdown",
   "id": "a12fb620",
   "metadata": {},
   "source": [
    "### Задание 2"
   ]
  },
  {
   "cell_type": "code",
   "execution_count": 3,
   "id": "9ff206a4",
   "metadata": {},
   "outputs": [
    {
     "data": {
      "text/plain": [
       "11.045"
      ]
     },
     "execution_count": 3,
     "metadata": {},
     "output_type": "execute_result"
    }
   ],
   "source": [
    "# а) норма Фробениуса\n",
    "round(np.linalg.norm(A), 3)"
   ]
  },
  {
   "cell_type": "code",
   "execution_count": 2,
   "id": "de34f0fb",
   "metadata": {
    "scrolled": false
   },
   "outputs": [
    {
     "data": {
      "text/plain": [
       "8.825"
      ]
     },
     "execution_count": 2,
     "metadata": {},
     "output_type": "execute_result"
    }
   ],
   "source": [
    "# б) евклидова норма\n",
    "round(max(s), 3)"
   ]
  }
 ],
 "metadata": {
  "kernelspec": {
   "display_name": "Python 3",
   "language": "python",
   "name": "python3"
  },
  "language_info": {
   "codemirror_mode": {
    "name": "ipython",
    "version": 3
   },
   "file_extension": ".py",
   "mimetype": "text/x-python",
   "name": "python",
   "nbconvert_exporter": "python",
   "pygments_lexer": "ipython3",
   "version": "3.8.8"
  }
 },
 "nbformat": 4,
 "nbformat_minor": 5
}
