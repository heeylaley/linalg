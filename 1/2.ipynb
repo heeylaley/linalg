{
 "cells": [
  {
   "cell_type": "markdown",
   "id": "b3402715",
   "metadata": {},
   "source": [
    "### Задание 1"
   ]
  },
  {
   "cell_type": "code",
   "execution_count": 3,
   "id": "f513152b",
   "metadata": {},
   "outputs": [
    {
     "data": {
      "text/plain": [
       "33"
      ]
     },
     "execution_count": 3,
     "metadata": {},
     "output_type": "execute_result"
    }
   ],
   "source": [
    "import numpy as np\n",
    "\n",
    "# а)\n",
    "\n",
    "a = np.array([0, -3, 6])\n",
    "b = np.array([-4, 7, 9])\n",
    "np.inner(a, b)"
   ]
  },
  {
   "cell_type": "code",
   "execution_count": 6,
   "id": "5faa5bf9",
   "metadata": {},
   "outputs": [
    {
     "data": {
      "text/plain": [
       "-23"
      ]
     },
     "execution_count": 6,
     "metadata": {},
     "output_type": "execute_result"
    }
   ],
   "source": [
    "# б)\n",
    "\n",
    "a = np.array([7, -4, 0, 1])\n",
    "b = np.array([-3, 1, 11, 2])\n",
    "np.inner(a, b)"
   ]
  },
  {
   "cell_type": "markdown",
   "id": "03111a1e",
   "metadata": {},
   "source": [
    "### Задание 2"
   ]
  },
  {
   "cell_type": "code",
   "execution_count": 4,
   "id": "4cb2247c",
   "metadata": {
    "scrolled": false
   },
   "outputs": [
    {
     "name": "stdout",
     "output_type": "stream",
     "text": [
      "норма вектора a = 6.0\n",
      "норма вектора b = 13.0\n"
     ]
    }
   ],
   "source": [
    "# Нормы векторов\n",
    "\n",
    "a = (4, 2, 4)\n",
    "b = (12, 3, 4)\n",
    "n_a = np.linalg.norm(a)\n",
    "n_b = np.linalg.norm(b)\n",
    "print('норма вектора a =', n_a)\n",
    "print('норма вектора b =', n_b)"
   ]
  },
  {
   "cell_type": "code",
   "execution_count": 5,
   "id": "6ecedfba",
   "metadata": {
    "scrolled": false
   },
   "outputs": [
    {
     "name": "stdout",
     "output_type": "stream",
     "text": [
      "угол (в градусах) = 26.177\n"
     ]
    }
   ],
   "source": [
    "# Угол между векторами\n",
    "\n",
    "res = np.arccos(np.inner(a, b) / (n_a * n_b))\n",
    "angle = round((res * 180) / np.pi, 3)\n",
    "print(f'угол (в градусах) = {angle}')"
   ]
  },
  {
   "cell_type": "markdown",
   "id": "806df0e7",
   "metadata": {},
   "source": [
    "### Задание 3"
   ]
  },
  {
   "cell_type": "markdown",
   "id": "bd1233b3",
   "metadata": {},
   "source": [
    "***а)*** Нет, так как условие противоречит определению скалярного произведения (произведение длин и косинуса) <br/>\n",
    "***б)*** Да, так как это не противоречит билинейности евклидова пространства (соблюдается аксиома 2)"
   ]
  },
  {
   "cell_type": "markdown",
   "id": "f777eb95",
   "metadata": {},
   "source": [
    "### Задание 4"
   ]
  },
  {
   "cell_type": "markdown",
   "id": "38f08029",
   "metadata": {},
   "source": [
    "а) (1, 0, 0), (0, 0, 1) - не базис по определению <br/>\n",
    "б) (1/√2, −1/√2, 0), (1/√2, 1/√2, 0), (0, 0, 1) - да (скалярное произведение во всех = 0 + длины всех векторов = 1)  <br/>\n",
    "в) (1/2, −1/2, 0), (0, 1/2, 1/2), (0, 0, 1) - нет (не все длины векторов = 1)  <br/>\n",
    "г) (1,0,0), (0,1,0), (0,0,1) -  (скалярное произведение во всех = 0 + длины всех векторов = 1)  <br/>"
   ]
  }
 ],
 "metadata": {
  "kernelspec": {
   "display_name": "Python 3",
   "language": "python",
   "name": "python3"
  },
  "language_info": {
   "codemirror_mode": {
    "name": "ipython",
    "version": 3
   },
   "file_extension": ".py",
   "mimetype": "text/x-python",
   "name": "python",
   "nbconvert_exporter": "python",
   "pygments_lexer": "ipython3",
   "version": "3.8.8"
  }
 },
 "nbformat": 4,
 "nbformat_minor": 5
}
