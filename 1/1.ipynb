{
 "cells": [
  {
   "cell_type": "markdown",
   "id": "fd05736d",
   "metadata": {},
   "source": [
    "### Задание 1"
   ]
  },
  {
   "cell_type": "markdown",
   "id": "f28da9f4",
   "metadata": {},
   "source": [
    "$$f_1 (x)=e^x,f_2 (x)=1,f_3 (x)=x+1,f_4 (x)=x-e^x$$"
   ]
  },
  {
   "cell_type": "markdown",
   "id": "519a27e8",
   "metadata": {},
   "source": [
    "$$f_3 (x)=f_4 (x)+f_1 (x)+f_2 (x)$$ <br/>\n",
    "-> *наблюдается линейная зависимость*"
   ]
  },
  {
   "cell_type": "markdown",
   "id": "205ad539",
   "metadata": {},
   "source": [
    "### Задание 2"
   ]
  },
  {
   "cell_type": "markdown",
   "id": "5a9c618c",
   "metadata": {},
   "source": [
    "$$f_1 (x)=2,f_2 (x)=x,f_3 (x)=x^2,f_4 (x)=(x+1)^2$$"
   ]
  },
  {
   "cell_type": "markdown",
   "id": "8fd47a79",
   "metadata": {},
   "source": [
    "$$f_4 (x)=f_3 (x)+2f_2 (x)+1/2f_1 (x)$$ <br/>\n",
    "-> *наблюдается линейная зависимость*"
   ]
  },
  {
   "cell_type": "markdown",
   "id": "e74b9a47",
   "metadata": {},
   "source": [
    "### Задание 3"
   ]
  },
  {
   "cell_type": "markdown",
   "id": "d89e660f",
   "metadata": {},
   "source": [
    "$$x=(2,3,5)∈ R^3 \\ в \\ базисе \\ b_1= (0,0,10) ,b_2=(2,0,0),b_3=(0,1,0)$$ <br/>\n",
    "$$x=(b_2,3b_3,1/2b_1)$$"
   ]
  },
  {
   "cell_type": "markdown",
   "id": "12609def",
   "metadata": {},
   "source": [
    "### Задание 4"
   ]
  },
  {
   "cell_type": "markdown",
   "id": "ff6a5b19",
   "metadata": {},
   "source": [
    "$$координаты \\ вектора \\ 3x^2-2x+2 ∈ R^3[x]:$$ <br/>\n",
    "***а)*** *(3, -2, 2)* <br/>\n",
    "***б)*** *(3, -2, 4)*"
   ]
  },
  {
   "cell_type": "markdown",
   "id": "6449f774",
   "metadata": {},
   "source": [
    "### Задание 5"
   ]
  },
  {
   "cell_type": "markdown",
   "id": "5a894dff",
   "metadata": {},
   "source": [
    "***а) 0, a, b***\n",
    "$$(0,a,b)+(0,c,d)=(0,a+c,b+d)$$ <br/>\n",
    "$$α⋅(0,a,b)=(0,αa,αb)$$ <br/>\n",
    "\n",
    "$$Полученные\\ векторы\\ также\\ принадлежат\\ указанному\\ в\\ задании\\ множеству\\ всех\\ векторов\\ вида\\ (0,a,b),\\ то\\ есть\\ данное\\ множество\\ является\\ подпространством\\ линейного\\ пространства\\  R^3$$\n",
    "\n",
    "***а) 0, 0, b*** \n",
    "$$(0,0,b)+(0,c,d)=(0,a+c,b+d)$$ <br/>\n",
    "$$α⋅(0,0,b)=(0,0,αb)$$ <br/>\n",
    "\n",
    "$$Полученные\\ векторы\\ также\\ принадлежат\\ указанному\\ в\\ задании\\ множеству\\ всех\\ векторов\\ вида\\ (0,a,b),\\ то\\ есть\\ данное\\ множество\\ является\\ подпространством\\ линейного\\ пространства\\  R^3$$"
   ]
  }
 ],
 "metadata": {
  "kernelspec": {
   "display_name": "Python 3",
   "language": "python",
   "name": "python3"
  },
  "language_info": {
   "codemirror_mode": {
    "name": "ipython",
    "version": 3
   },
   "file_extension": ".py",
   "mimetype": "text/x-python",
   "name": "python",
   "nbconvert_exporter": "python",
   "pygments_lexer": "ipython3",
   "version": "3.8.8"
  }
 },
 "nbformat": 4,
 "nbformat_minor": 5
}
