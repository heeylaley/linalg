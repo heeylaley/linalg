{
 "cells": [
  {
   "cell_type": "markdown",
   "id": "7ffb1e28",
   "metadata": {},
   "source": [
    "### Задание 1"
   ]
  },
  {
   "cell_type": "code",
   "execution_count": 13,
   "id": "34df8e55",
   "metadata": {},
   "outputs": [
    {
     "name": "stdout",
     "output_type": "stream",
     "text": [
      "x1 = 5\n",
      "x2 = 2\n"
     ]
    }
   ],
   "source": [
    "import numpy as np\n",
    "# а)\n",
    "\n",
    "A = np.array([[1, -2], [3, -4]])\n",
    "B = np.array([1, 7])\n",
    "res = np.linalg.solve(A, B)\n",
    "\n",
    "n = 1\n",
    "for el in res:\n",
    "    print(f'x{n} = {round(el)}')\n",
    "    n += 1"
   ]
  },
  {
   "cell_type": "code",
   "execution_count": 14,
   "id": "b1e84492",
   "metadata": {},
   "outputs": [
    {
     "name": "stdout",
     "output_type": "stream",
     "text": [
      "x1 = 2\n",
      "x2 = -1\n",
      "x3 = 1\n"
     ]
    }
   ],
   "source": [
    "# б)\n",
    "\n",
    "A = np.array([[2, -1, 5], [1, 1, -3], [2, 4, 1]])\n",
    "B = np.array([10, -2, 1])\n",
    "res = np.linalg.solve(A, B)\n",
    "\n",
    "n = 1\n",
    "for el in res:\n",
    "    print(f'x{n} = {round(el)}')\n",
    "    n += 1"
   ]
  },
  {
   "cell_type": "markdown",
   "id": "4a0bd85d",
   "metadata": {},
   "source": [
    "### Задание 2"
   ]
  },
  {
   "cell_type": "code",
   "execution_count": 22,
   "id": "3ba385e1",
   "metadata": {},
   "outputs": [
    {
     "name": "stdout",
     "output_type": "stream",
     "text": [
      "L: \n",
      "[[1.         0.         0.        ]\n",
      " [0.66666667 1.         0.        ]\n",
      " [0.33333333 0.8        1.        ]]\n"
     ]
    }
   ],
   "source": [
    "import scipy.linalg\n",
    "\n",
    "A = np.array([[1, 2, 4],\n",
    "              [2, 9, 12],\n",
    "              [3, 26, 30]]\n",
    "             )\n",
    "P, L, U = scipy.linalg.lu(A)\n",
    "\n",
    "print(f'L: \\n{L}')"
   ]
  },
  {
   "cell_type": "code",
   "execution_count": 23,
   "id": "021480d8",
   "metadata": {},
   "outputs": [
    {
     "name": "stdout",
     "output_type": "stream",
     "text": [
      "L: \n",
      "[[1.   0.   0.  ]\n",
      " [0.5  1.   0.  ]\n",
      " [0.25 0.75 1.  ]]\n"
     ]
    }
   ],
   "source": [
    "A = np.array([[1, 1, 2, 4],\n",
    "              [2, 5, 8, 9],\n",
    "              [4, 22, 53, 33]]\n",
    "             )\n",
    "P, L, U = scipy.linalg.lu(A)\n",
    "\n",
    "print(f'L: \\n{L}')"
   ]
  },
  {
   "cell_type": "markdown",
   "id": "e7706ae8",
   "metadata": {},
   "source": [
    "### Задание 3"
   ]
  },
  {
   "cell_type": "code",
   "execution_count": 21,
   "id": "0fc8a07f",
   "metadata": {},
   "outputs": [
    {
     "name": "stdout",
     "output_type": "stream",
     "text": [
      "P: \n",
      "[[0. 0. 1.]\n",
      " [1. 0. 0.]\n",
      " [0. 1. 0.]]\n",
      "L: \n",
      "[[ 1.          0.          0.        ]\n",
      " [ 0.81818182  1.          0.        ]\n",
      " [ 0.18181818 -0.12        1.        ]]\n",
      "U: \n",
      "[[11.          7.          5.        ]\n",
      " [ 0.          2.27272727 -0.09090909]\n",
      " [ 0.          0.          2.08      ]]\n",
      "[[-2.  1. -1.]\n",
      " [-7. -7. -1.]\n",
      " [ 9.  6.  2.]]\n",
      "A = L * U: \n",
      "[[11.  7.  5.]\n",
      " [ 9.  8.  4.]\n",
      " [ 2.  1.  3.]]\n",
      "x1 = -1\n",
      "x2 = 0\n",
      "x3 = 1\n"
     ]
    }
   ],
   "source": [
    "A = np.array([[2, 1, 3],\n",
    "              [11, 7, 5],\n",
    "              [9, 8, 4]]\n",
    "             )\n",
    "P, L, U = scipy.linalg.lu(A)\n",
    "\n",
    "print(f'P: \\n{P}')\n",
    "print(f'L: \\n{L}')\n",
    "print(f'U: \\n{U}')\n",
    "\n",
    "print(np.dot(P, A) - np.dot(L, U))\n",
    "\n",
    "print(f'A = L * U: \\n{np.dot(L, U)}')\n",
    "\n",
    "B = np.array([1, -6, -5])\n",
    "res = np.linalg.solve(A, B)\n",
    "\n",
    "n = 1\n",
    "for el in res:\n",
    "    print(f'x{n} = {round(el)}')\n",
    "    n += 1"
   ]
  }
 ],
 "metadata": {
  "kernelspec": {
   "display_name": "Python 3",
   "language": "python",
   "name": "python3"
  },
  "language_info": {
   "codemirror_mode": {
    "name": "ipython",
    "version": 3
   },
   "file_extension": ".py",
   "mimetype": "text/x-python",
   "name": "python",
   "nbconvert_exporter": "python",
   "pygments_lexer": "ipython3",
   "version": "3.8.8"
  }
 },
 "nbformat": 4,
 "nbformat_minor": 5
}
